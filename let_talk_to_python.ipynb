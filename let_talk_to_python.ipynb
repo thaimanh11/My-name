{
 "cells": [
  {
   "cell_type": "markdown",
   "id": "f34482af",
   "metadata": {},
   "source": [
    "\n",
    "# Let talk to python\n"
   ]
  },
  {
   "cell_type": "markdown",
   "id": "9f78c513",
   "metadata": {},
   "source": [
    "## Math\n"
   ]
  },
  {
   "cell_type": "code",
   "execution_count": 2,
   "id": "98fa6b69",
   "metadata": {},
   "outputs": [
    {
     "data": {
      "text/plain": [
       "9"
      ]
     },
     "execution_count": 2,
     "metadata": {},
     "output_type": "execute_result"
    }
   ],
   "source": [
    "# Phép cộng \n",
    "1 + 2 + 6"
   ]
  },
  {
   "cell_type": "code",
   "execution_count": 3,
   "id": "df654f77",
   "metadata": {},
   "outputs": [
    {
     "data": {
      "text/plain": [
       "3"
      ]
     },
     "execution_count": 3,
     "metadata": {},
     "output_type": "execute_result"
    }
   ],
   "source": [
    "# Phép trừ \n",
    "6 - 3"
   ]
  },
  {
   "cell_type": "code",
   "execution_count": 4,
   "id": "3789dc50",
   "metadata": {},
   "outputs": [],
   "source": [
    "# Phép Nhân 8 * 9\n"
   ]
  },
  {
   "cell_type": "code",
   "execution_count": 6,
   "id": "5b49281c",
   "metadata": {},
   "outputs": [
    {
     "data": {
      "text/plain": [
       "3.0"
      ]
     },
     "execution_count": 6,
     "metadata": {},
     "output_type": "execute_result"
    }
   ],
   "source": [
    "# Phép chia \n",
    "9 / 3\n"
   ]
  },
  {
   "cell_type": "code",
   "execution_count": 7,
   "id": "8c3025e1",
   "metadata": {},
   "outputs": [
    {
     "data": {
      "text/plain": [
       "2.5"
      ]
     },
     "execution_count": 7,
     "metadata": {},
     "output_type": "execute_result"
    }
   ],
   "source": [
    "5 / 2"
   ]
  },
  {
   "cell_type": "code",
   "execution_count": 8,
   "id": "1f0bcd6f",
   "metadata": {},
   "outputs": [
    {
     "data": {
      "text/plain": [
       "3"
      ]
     },
     "execution_count": 8,
     "metadata": {},
     "output_type": "execute_result"
    }
   ],
   "source": [
    "round (10/3)"
   ]
  },
  {
   "cell_type": "code",
   "execution_count": 9,
   "id": "95602080",
   "metadata": {},
   "outputs": [
    {
     "data": {
      "text/plain": [
       "True"
      ]
     },
     "execution_count": 9,
     "metadata": {},
     "output_type": "execute_result"
    }
   ],
   "source": [
    "5 == 5 "
   ]
  },
  {
   "cell_type": "code",
   "execution_count": 10,
   "id": "d2e87a27",
   "metadata": {},
   "outputs": [
    {
     "data": {
      "text/plain": [
       "False"
      ]
     },
     "execution_count": 10,
     "metadata": {},
     "output_type": "execute_result"
    }
   ],
   "source": [
    "6!=6"
   ]
  },
  {
   "cell_type": "code",
   "execution_count": 11,
   "id": "ec7d89bc",
   "metadata": {},
   "outputs": [
    {
     "data": {
      "text/plain": [
       "True"
      ]
     },
     "execution_count": 11,
     "metadata": {},
     "output_type": "execute_result"
    }
   ],
   "source": [
    "5<6"
   ]
  },
  {
   "cell_type": "code",
   "execution_count": 12,
   "id": "cfcc8cc3",
   "metadata": {},
   "outputs": [
    {
     "data": {
      "text/plain": [
       "True"
      ]
     },
     "execution_count": 12,
     "metadata": {},
     "output_type": "execute_result"
    }
   ],
   "source": [
    "7<=7"
   ]
  },
  {
   "cell_type": "code",
   "execution_count": 13,
   "id": "f7d43b37",
   "metadata": {},
   "outputs": [
    {
     "data": {
      "text/plain": [
       "True"
      ]
     },
     "execution_count": 13,
     "metadata": {},
     "output_type": "execute_result"
    }
   ],
   "source": [
    "7*9+19 !=28"
   ]
  },
  {
   "cell_type": "markdown",
   "id": "daee7dcc",
   "metadata": {},
   "source": [
    "# types of data"
   ]
  },
  {
   "cell_type": "code",
   "execution_count": 1,
   "id": "8ebac5cc",
   "metadata": {},
   "outputs": [],
   "source": [
    "s = \"hello\"\n"
   ]
  },
  {
   "cell_type": "code",
   "execution_count": 2,
   "id": "908d16f4",
   "metadata": {},
   "outputs": [
    {
     "data": {
      "text/plain": [
       "str"
      ]
     },
     "execution_count": 2,
     "metadata": {},
     "output_type": "execute_result"
    }
   ],
   "source": [
    "type (s)\n"
   ]
  },
  {
   "cell_type": "code",
   "execution_count": 4,
   "id": "c3828798",
   "metadata": {},
   "outputs": [],
   "source": [
    "s=5"
   ]
  },
  {
   "cell_type": "code",
   "execution_count": 5,
   "id": "64d8a2e3",
   "metadata": {},
   "outputs": [
    {
     "data": {
      "text/plain": [
       "int"
      ]
     },
     "execution_count": 5,
     "metadata": {},
     "output_type": "execute_result"
    }
   ],
   "source": [
    "type (s)"
   ]
  },
  {
   "cell_type": "code",
   "execution_count": 6,
   "id": "7fc9cea6",
   "metadata": {},
   "outputs": [],
   "source": [
    "s= 16.5 "
   ]
  },
  {
   "cell_type": "code",
   "execution_count": 7,
   "id": "f11539a6",
   "metadata": {},
   "outputs": [
    {
     "data": {
      "text/plain": [
       "float"
      ]
     },
     "execution_count": 7,
     "metadata": {},
     "output_type": "execute_result"
    }
   ],
   "source": [
    "type (s)"
   ]
  },
  {
   "cell_type": "code",
   "execution_count": null,
   "id": "4b9b3bf3",
   "metadata": {},
   "outputs": [],
   "source": []
  },
  {
   "cell_type": "markdown",
   "id": "ab9fed23",
   "metadata": {},
   "source": [
    "## booleans\n"
   ]
  },
  {
   "cell_type": "code",
   "execution_count": 8,
   "id": "d995ed3f",
   "metadata": {},
   "outputs": [
    {
     "data": {
      "text/plain": [
       "True"
      ]
     },
     "execution_count": 8,
     "metadata": {},
     "output_type": "execute_result"
    }
   ],
   "source": [
    "True "
   ]
  },
  {
   "cell_type": "code",
   "execution_count": 9,
   "id": "f6682b70",
   "metadata": {},
   "outputs": [
    {
     "data": {
      "text/plain": [
       "False"
      ]
     },
     "execution_count": 9,
     "metadata": {},
     "output_type": "execute_result"
    }
   ],
   "source": [
    "False"
   ]
  },
  {
   "cell_type": "code",
   "execution_count": 10,
   "id": "6632ea07",
   "metadata": {},
   "outputs": [
    {
     "data": {
      "text/plain": [
       "True"
      ]
     },
     "execution_count": 10,
     "metadata": {},
     "output_type": "execute_result"
    }
   ],
   "source": [
    "1==1"
   ]
  },
  {
   "cell_type": "code",
   "execution_count": 11,
   "id": "3bd4c3ab",
   "metadata": {},
   "outputs": [
    {
     "data": {
      "text/plain": [
       "True"
      ]
     },
     "execution_count": 11,
     "metadata": {},
     "output_type": "execute_result"
    }
   ],
   "source": [
    "#and \n",
    "1==1 and 2 != 4"
   ]
  },
  {
   "cell_type": "code",
   "execution_count": 12,
   "id": "304bba91",
   "metadata": {},
   "outputs": [
    {
     "data": {
      "text/plain": [
       "True"
      ]
     },
     "execution_count": 12,
     "metadata": {},
     "output_type": "execute_result"
    }
   ],
   "source": [
    "# or \n",
    "1==1 or 2==6"
   ]
  },
  {
   "cell_type": "markdown",
   "id": "94b7d683",
   "metadata": {},
   "source": [
    "# Lists\n",
    "Danh sách là một chuỗi của các đối tượng ( objects )"
   ]
  },
  {
   "cell_type": "code",
   "execution_count": 13,
   "id": "e2e71b71",
   "metadata": {},
   "outputs": [],
   "source": [
    "fruit = [1,2,5,6 ]"
   ]
  },
  {
   "cell_type": "code",
   "execution_count": 14,
   "id": "3e0a7a8c",
   "metadata": {},
   "outputs": [
    {
     "data": {
      "text/plain": [
       "list"
      ]
     },
     "execution_count": 14,
     "metadata": {},
     "output_type": "execute_result"
    }
   ],
   "source": [
    "type ( fruit)"
   ]
  },
  {
   "cell_type": "code",
   "execution_count": 15,
   "id": "c9b49caf",
   "metadata": {},
   "outputs": [
    {
     "data": {
      "text/plain": [
       "list"
      ]
     },
     "execution_count": 15,
     "metadata": {},
     "output_type": "execute_result"
    }
   ],
   "source": [
    "number = [ 3,5,6 ,7]\n",
    "type ( number\n",
    "     )"
   ]
  },
  {
   "cell_type": "code",
   "execution_count": 16,
   "id": "0a9af675",
   "metadata": {},
   "outputs": [],
   "source": [
    "ls = [1, 3 , \"apple \", \"banana\" ]"
   ]
  },
  {
   "cell_type": "code",
   "execution_count": 17,
   "id": "0396d60f",
   "metadata": {},
   "outputs": [
    {
     "data": {
      "text/plain": [
       "list"
      ]
     },
     "execution_count": 17,
     "metadata": {},
     "output_type": "execute_result"
    }
   ],
   "source": [
    "type ( ls\n",
    "     )"
   ]
  },
  {
   "cell_type": "code",
   "execution_count": 18,
   "id": "05c3ac97",
   "metadata": {},
   "outputs": [
    {
     "data": {
      "text/plain": [
       "1"
      ]
     },
     "execution_count": 18,
     "metadata": {},
     "output_type": "execute_result"
    }
   ],
   "source": [
    "fruit [0]"
   ]
  },
  {
   "cell_type": "code",
   "execution_count": 19,
   "id": "8c17318c",
   "metadata": {},
   "outputs": [
    {
     "data": {
      "text/plain": [
       "6"
      ]
     },
     "execution_count": 19,
     "metadata": {},
     "output_type": "execute_result"
    }
   ],
   "source": [
    "fruit [-1]"
   ]
  },
  {
   "cell_type": "code",
   "execution_count": 20,
   "id": "eec4650a",
   "metadata": {},
   "outputs": [],
   "source": [
    "color = [ \"green\", \"red\",\"black\"]"
   ]
  },
  {
   "cell_type": "code",
   "execution_count": 21,
   "id": "36d0185f",
   "metadata": {},
   "outputs": [
    {
     "data": {
      "text/plain": [
       "'red'"
      ]
     },
     "execution_count": 21,
     "metadata": {},
     "output_type": "execute_result"
    }
   ],
   "source": [
    "color [1]"
   ]
  },
  {
   "cell_type": "markdown",
   "id": "70c862c4",
   "metadata": {},
   "source": [
    "# Functions\n"
   ]
  },
  {
   "cell_type": "code",
   "execution_count": 6,
   "id": "c1bfad00",
   "metadata": {},
   "outputs": [],
   "source": [
    "def say_hello() :\n",
    "    print (\"hello\")"
   ]
  },
  {
   "cell_type": "code",
   "execution_count": 7,
   "id": "a318de04",
   "metadata": {},
   "outputs": [
    {
     "name": "stdout",
     "output_type": "stream",
     "text": [
      "hello\n"
     ]
    }
   ],
   "source": [
    "say_hello()"
   ]
  },
  {
   "cell_type": "code",
   "execution_count": 12,
   "id": "06d972cb",
   "metadata": {},
   "outputs": [],
   "source": [
    "def say_hello(myname):\n",
    "    print (\"hello\", myname)"
   ]
  },
  {
   "cell_type": "code",
   "execution_count": 14,
   "id": "f122a533",
   "metadata": {},
   "outputs": [
    {
     "name": "stdout",
     "output_type": "stream",
     "text": [
      "hello Manh\n"
     ]
    }
   ],
   "source": [
    "say_hello(\"Manh\")"
   ]
  },
  {
   "cell_type": "markdown",
   "id": "ab41c1a9",
   "metadata": {},
   "source": [
    "# Bài tập \n",
    "kiểm tra 1 số là số là hay chẵn , in ra màn hình "
   ]
  },
  {
   "cell_type": "code",
   "execution_count": 15,
   "id": "bce256e9",
   "metadata": {},
   "outputs": [],
   "source": [
    "def check_num(mynum):\n",
    "    if mynum % 2 ==0: \n",
    "       print (\"là sỗ chẵn\")\n",
    "    else:\n",
    "        print (\"là số lẻ \")\n",
    "        "
   ]
  },
  {
   "cell_type": "code",
   "execution_count": 16,
   "id": "16b8457f",
   "metadata": {},
   "outputs": [
    {
     "name": "stdout",
     "output_type": "stream",
     "text": [
      "là sỗ chẵn\n"
     ]
    }
   ],
   "source": [
    "check_num (10)"
   ]
  },
  {
   "cell_type": "code",
   "execution_count": 17,
   "id": "289bf1be",
   "metadata": {},
   "outputs": [
    {
     "name": "stdout",
     "output_type": "stream",
     "text": [
      "là số lẻ \n"
     ]
    }
   ],
   "source": [
    "check_num (7)"
   ]
  },
  {
   "cell_type": "markdown",
   "id": "aacbb596",
   "metadata": {},
   "source": [
    "viết một hàm có tham số là 2 sóo , in ra kết quả tích hai số đấy "
   ]
  },
  {
   "cell_type": "code",
   "execution_count": 18,
   "id": "10e6f1db",
   "metadata": {},
   "outputs": [],
   "source": [
    "def multiply (num1, num2):\n",
    "    print (num1 * num2)"
   ]
  },
  {
   "cell_type": "code",
   "execution_count": 19,
   "id": "e23930a2",
   "metadata": {},
   "outputs": [
    {
     "name": "stdout",
     "output_type": "stream",
     "text": [
      "72\n"
     ]
    }
   ],
   "source": [
    "multiply (8,9)"
   ]
  },
  {
   "cell_type": "code",
   "execution_count": 21,
   "id": "88180dac",
   "metadata": {},
   "outputs": [
    {
     "name": "stdout",
     "output_type": "stream",
     "text": [
      "70\n"
     ]
    }
   ],
   "source": [
    "multiply (10,7)"
   ]
  },
  {
   "cell_type": "markdown",
   "id": "2940c41b",
   "metadata": {},
   "source": [
    "# Functions : Output (giá trị trả về của hàm )"
   ]
  },
  {
   "cell_type": "code",
   "execution_count": 23,
   "id": "aeb7d082",
   "metadata": {},
   "outputs": [
    {
     "name": "stdout",
     "output_type": "stream",
     "text": [
      "12\n"
     ]
    }
   ],
   "source": [
    "multiply (2,6)"
   ]
  },
  {
   "cell_type": "code",
   "execution_count": 24,
   "id": "dfc7e0bc",
   "metadata": {},
   "outputs": [
    {
     "name": "stdout",
     "output_type": "stream",
     "text": [
      "12\n"
     ]
    }
   ],
   "source": [
    "kq = multiply (2,6)"
   ]
  },
  {
   "cell_type": "code",
   "execution_count": 26,
   "id": "b3a8534a",
   "metadata": {},
   "outputs": [],
   "source": [
    "def multiply ( num1, num2):\n",
    "    return (num1 * num2 )"
   ]
  },
  {
   "cell_type": "code",
   "execution_count": 27,
   "id": "4cb6c99a",
   "metadata": {},
   "outputs": [
    {
     "data": {
      "text/plain": [
       "16"
      ]
     },
     "execution_count": 27,
     "metadata": {},
     "output_type": "execute_result"
    }
   ],
   "source": [
    "multiply ( 2,8)"
   ]
  },
  {
   "cell_type": "code",
   "execution_count": 28,
   "id": "8828137e",
   "metadata": {},
   "outputs": [],
   "source": [
    "kq = multiply (2, 6)"
   ]
  },
  {
   "cell_type": "code",
   "execution_count": 37,
   "id": "3c28be66",
   "metadata": {},
   "outputs": [
    {
     "data": {
      "text/plain": [
       "12"
      ]
     },
     "execution_count": 37,
     "metadata": {},
     "output_type": "execute_result"
    }
   ],
   "source": [
    "kq"
   ]
  },
  {
   "cell_type": "code",
   "execution_count": 32,
   "id": "ba552721",
   "metadata": {},
   "outputs": [],
   "source": [
    "def hello_there():\n",
    "    print (\"Type your name: \")\n",
    "    name = input()\n",
    "    print (\"Hi \",name , \"How are you ?\")\n",
    "    "
   ]
  },
  {
   "cell_type": "code",
   "execution_count": 35,
   "id": "9250d667",
   "metadata": {},
   "outputs": [
    {
     "name": "stdout",
     "output_type": "stream",
     "text": [
      "Type your name: \n",
      "Manh\n",
      "Hi  Manh How are you ?\n"
     ]
    }
   ],
   "source": [
    "hello_there()"
   ]
  },
  {
   "cell_type": "markdown",
   "id": "e928fb00",
   "metadata": {},
   "source": [
    "# Modules"
   ]
  },
  {
   "cell_type": "code",
   "execution_count": null,
   "id": "2ed22c45",
   "metadata": {},
   "outputs": [],
   "source": [
    "import random"
   ]
  },
  {
   "cell_type": "code",
   "execution_count": 42,
   "id": "267f9977",
   "metadata": {},
   "outputs": [
    {
     "ename": "NameError",
     "evalue": "name 'mymodule' is not defined",
     "output_type": "error",
     "traceback": [
      "\u001b[0;31m---------------------------------------------------------------------------\u001b[0m",
      "\u001b[0;31mNameError\u001b[0m                                 Traceback (most recent call last)",
      "Cell \u001b[0;32mIn [42], line 1\u001b[0m\n\u001b[0;32m----> 1\u001b[0m \u001b[43mmymodule\u001b[49m\u001b[38;5;241m.\u001b[39mcheck_num(\u001b[38;5;241m8\u001b[39m)\n",
      "\u001b[0;31mNameError\u001b[0m: name 'mymodule' is not defined"
     ]
    }
   ],
   "source": [
    "mymodule.check_num(8)"
   ]
  },
  {
   "cell_type": "code",
   "execution_count": null,
   "id": "bf70ae86",
   "metadata": {},
   "outputs": [],
   "source": []
  },
  {
   "cell_type": "markdown",
   "id": "76c7556a",
   "metadata": {},
   "source": [
    "# let make game "
   ]
  },
  {
   "cell_type": "markdown",
   "id": "d5387d40",
   "metadata": {},
   "source": [
    "viết hàm game 1 trong slide 78 "
   ]
  },
  {
   "cell_type": "code",
   "execution_count": 56,
   "id": "0303bae0",
   "metadata": {},
   "outputs": [
    {
     "name": "stdout",
     "output_type": "stream",
     "text": [
      "What number am I thinking of? 8\n"
     ]
    },
    {
     "ename": "TypeError",
     "evalue": "'>' not supported between instances of 'int' and 'str'",
     "output_type": "error",
     "traceback": [
      "\u001b[0;31m---------------------------------------------------------------------------\u001b[0m",
      "\u001b[0;31mTypeError\u001b[0m                                 Traceback (most recent call last)",
      "Cell \u001b[0;32mIn [56], line 8\u001b[0m\n\u001b[1;32m      6\u001b[0m     \u001b[38;5;28mprint\u001b[39m(\u001b[38;5;124m\"\u001b[39m\u001b[38;5;124mYay! You got it.\u001b[39m\u001b[38;5;124m\"\u001b[39m)\n\u001b[1;32m      7\u001b[0m     \u001b[38;5;28;01mbreak\u001b[39;00m\n\u001b[0;32m----> 8\u001b[0m \u001b[38;5;28;01melif\u001b[39;00m \u001b[43msecret_number\u001b[49m\u001b[43m \u001b[49m\u001b[38;5;241;43m>\u001b[39;49m\u001b[43m \u001b[49m\u001b[43mguess\u001b[49m:\n\u001b[1;32m      9\u001b[0m     \u001b[38;5;28mprint\u001b[39m(\u001b[38;5;124m\"\u001b[39m\u001b[38;5;124mNo, that\u001b[39m\u001b[38;5;124m'\u001b[39m\u001b[38;5;124ms too low.\u001b[39m\u001b[38;5;124m\"\u001b[39m)\n\u001b[1;32m     10\u001b[0m \u001b[38;5;28;01melse\u001b[39;00m:\n",
      "\u001b[0;31mTypeError\u001b[0m: '>' not supported between instances of 'int' and 'str'"
     ]
    }
   ],
   "source": [
    " from random import randint\n",
    "secret_number = randint(1, 10)\n",
    "while True:\n",
    "        guess = input(\"What number am I thinking of? \")\n",
    "        if secret_number == guess:\n",
    "            print(\"Yay! You got it.\")\n",
    "            break\n",
    "        elif secret_number > guess:\n",
    "            print(\"No, that's too low.\")\n",
    "        else:\n",
    "            print(\"No, that's too high.\")"
   ]
  },
  {
   "cell_type": "markdown",
   "id": "04cc3acb",
   "metadata": {},
   "source": []
  },
  {
   "cell_type": "code",
   "execution_count": null,
   "id": "92440103",
   "metadata": {},
   "outputs": [],
   "source": []
  }
 ],
 "metadata": {
  "kernelspec": {
   "display_name": "Python 3 (ipykernel)",
   "language": "python",
   "name": "python3"
  },
  "language_info": {
   "codemirror_mode": {
    "name": "ipython",
    "version": 3
   },
   "file_extension": ".py",
   "mimetype": "text/x-python",
   "name": "python",
   "nbconvert_exporter": "python",
   "pygments_lexer": "ipython3",
   "version": "3.9.7"
  }
 },
 "nbformat": 4,
 "nbformat_minor": 5
}
